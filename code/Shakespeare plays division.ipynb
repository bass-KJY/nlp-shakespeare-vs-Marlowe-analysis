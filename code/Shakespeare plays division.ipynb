{
 "cells": [
  {
   "cell_type": "code",
   "execution_count": 1,
   "metadata": {},
   "outputs": [
    {
     "name": "stdout",
     "output_type": "stream",
     "text": [
      "The Merchant of Venice 관련 데이터가 C:\\Users\\kang8\\OneDrive\\바탕 화면\\빅데이터융합개론\\셰익스피어\\리처드 3세\\archive\\The_Merchant_of_Venice.csv에 저장되었습니다.\n",
      "Richard III 관련 데이터가 C:\\Users\\kang8\\OneDrive\\바탕 화면\\빅데이터융합개론\\셰익스피어\\리처드 3세\\archive\\Richard_III.csv에 저장되었습니다.\n",
      "Macbeth 관련 데이터가 C:\\Users\\kang8\\OneDrive\\바탕 화면\\빅데이터융합개론\\셰익스피어\\리처드 3세\\archive\\Macbeth.csv에 저장되었습니다.\n"
     ]
    }
   ],
   "source": [
    "import pandas as pd\n",
    "\n",
    "# CSV 파일 경로를 입력\n",
    "input_csv_path = \"C:\\\\Users\\\\kang8\\\\OneDrive\\\\바탕 화면\\\\빅데이터융합개론\\\\셰익스피어\\\\리처드 3세\\\\archive\\\\shakespeare_plays.csv\"\n",
    "\n",
    "# CSV 파일 읽기\n",
    "data = pd.read_csv(input_csv_path)\n",
    "\n",
    "# 각 연극 이름에 따라 데이터 분류 후 별도 CSV 파일로 저장\n",
    "for play in [\"The Merchant of Venice\", \"Richard III\", \"Macbeth\"]:\n",
    "    # 해당 play_name의 데이터만 필터링\n",
    "    play_data = data[data[\"play_name\"] == play]\n",
    "    \n",
    "    # 분류된 데이터를 개별 CSV 파일로 저장\n",
    "    output_csv_path = f\"C:\\\\Users\\\\kang8\\\\OneDrive\\\\바탕 화면\\\\빅데이터융합개론\\\\셰익스피어\\\\리처드 3세\\\\archive\\\\{play.replace(' ', '_')}.csv\"\n",
    "    play_data.to_csv(output_csv_path, index=False, encoding=\"utf-8-sig\")\n",
    "\n",
    "    print(f\"{play} 관련 데이터가 {output_csv_path}에 저장되었습니다.\")\n"
   ]
  }
 ],
 "metadata": {
  "kernelspec": {
   "display_name": "base",
   "language": "python",
   "name": "python3"
  },
  "language_info": {
   "codemirror_mode": {
    "name": "ipython",
    "version": 3
   },
   "file_extension": ".py",
   "mimetype": "text/x-python",
   "name": "python",
   "nbconvert_exporter": "python",
   "pygments_lexer": "ipython3",
   "version": "3.11.7"
  }
 },
 "nbformat": 4,
 "nbformat_minor": 2
}
