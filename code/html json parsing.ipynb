{
 "cells": [
  {
   "cell_type": "code",
   "execution_count": null,
   "metadata": {},
   "outputs": [],
   "source": [
    "from bs4 import BeautifulSoup\n",
    "import json\n",
    "\n",
    "# Load the HTML file\n",
    "with open(\"C:\\\\Users\\\\kang8\\\\OneDrive\\\\바탕 화면\\\\빅데이터융합개론\\\\셰익스피어\\\\리처드 3세\\\\pg1503-images.html\", \"r\", encoding=\"utf-8\") as file:\n",
    "    soup = BeautifulSoup(file, \"html.parser\")\n",
    "\n",
    "# Initialize variables\n",
    "acts_data = []\n",
    "current_act = \"\"\n",
    "current_scene = \"\"\n",
    "characters = []\n",
    "dialogues = []\n",
    "\n",
    "# Parse the HTML structure\n",
    "for tag in soup.find_all():\n",
    "    # Detect Act\n",
    "    if tag.name == \"h2\" and \"ACT\" in tag.text:\n",
    "        current_act = tag.text.strip()\n",
    "    \n",
    "    # Detect Scene\n",
    "    elif tag.name == \"h3\" and \"SCENE\" in tag.text:\n",
    "        current_scene = tag.text.strip()\n",
    "    \n",
    "    # Detect character name and dialogue\n",
    "    elif tag.name == \"p\" and \"drama\" in tag.get(\"class\", []):\n",
    "        dialogue_parts = tag.get_text(separator=\" \").split(\". \")\n",
    "        character = dialogue_parts[0].strip().replace(\".\", \"\")\n",
    "        dialogue = \". \".join(dialogue_parts[1:]).strip()\n",
    "        \n",
    "        # Only add to data if dialogue is present\n",
    "        if character and dialogue:\n",
    "            characters.append(character)\n",
    "            dialogues.append(dialogue)\n",
    "\n",
    "    # Append data for each act/scene\n",
    "    elif tag.name == \"h2\" and current_act and current_scene and characters:\n",
    "        acts_data.append({\n",
    "            \"Act Num\": current_act,\n",
    "            \"Scene Num\": current_scene,\n",
    "            \"Character\": characters.copy(),\n",
    "            \"line\": dialogues.copy()\n",
    "        })\n",
    "        characters.clear()\n",
    "        dialogues.clear()\n",
    "\n",
    "output_path = \n",
    "\n",
    "# Save the data as JSON\n",
    "with open(output_path, \"w\", encoding=\"utf-8\") as json_file:\n",
    "    json.dump(acts_data, json_file, ensure_ascii=False, indent=4)\n"
   ]
  }
 ],
 "metadata": {
  "kernelspec": {
   "display_name": "base",
   "language": "python",
   "name": "python3"
  },
  "language_info": {
   "codemirror_mode": {
    "name": "ipython",
    "version": 3
   },
   "file_extension": ".py",
   "mimetype": "text/x-python",
   "name": "python",
   "nbconvert_exporter": "python",
   "pygments_lexer": "ipython3",
   "version": "3.11.7"
  }
 },
 "nbformat": 4,
 "nbformat_minor": 2
}
